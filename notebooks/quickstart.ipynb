{
 "cells": [
  {
   "cell_type": "markdown",
   "id": "7b9214de",
   "metadata": {},
   "source": [
    "# Quickstart\n",
    "This notebook showcases basic examples of how ️buffers implements storing and replaying of experiences.\n",
    "\n",
    "To maintain the modularity of [Datasets & DataLoaders](https://pytorch.org/tutorials/beginner/basics/data_tutorial.html#loading-a-dataset), we utilize the `EpisodeDataset` to store completed episodes and a `ReplayBuffer` that wraps around the dataset to enable easy adding and sampling of experiences."
   ]
  },
  {
   "cell_type": "markdown",
   "id": "eb11b474",
   "metadata": {},
   "source": [
    "## Creating a replay buffer"
   ]
  },
  {
   "cell_type": "code",
   "execution_count": 1,
   "id": "04b867b7",
   "metadata": {},
   "outputs": [],
   "source": [
    "from buffers import ReplayBuffer\n",
    "from buffers.dataset import RingBufferDataset\n",
    "\n",
    "dataset = RingBufferDataset(capacity=10000)\n",
    "replay_buffer = ReplayBuffer(dataset, batch_size=32, sequence_length=10)"
   ]
  },
  {
   "cell_type": "markdown",
   "id": "f5dbfe7f",
   "metadata": {},
   "source": [
    "## Storing data from sample environment"
   ]
  },
  {
   "cell_type": "code",
   "execution_count": 2,
   "id": "df12048b",
   "metadata": {},
   "outputs": [
    {
     "name": "stderr",
     "output_type": "stream",
     "text": [
      "Generating experiences: 100%|███████████████████████████████████████████████████████████████████████████████████████████████████████████████████| 500/500 [00:01<00:00, 315.12it/s]\n"
     ]
    }
   ],
   "source": [
    "import gymnasium as gym\n",
    "from pprint import pprint\n",
    "from buffers.utils import to_torch\n",
    "from tqdm import tqdm\n",
    "\n",
    "env = gym.make(\"Pendulum-v1\", render_mode=\"rgb_array\")\n",
    "env.action_space.seed(42)\n",
    "observation, info = env.reset(seed=42)\n",
    "\n",
    "for _ in tqdm(range(500), desc=\"Generating experiences\"):\n",
    "    action = env.action_space.sample()\n",
    "    observation, reward, terminated, truncated, info = to_torch(env.step(action))\n",
    "    \n",
    "    if terminated or truncated:\n",
    "        observation, info = to_torch(env.reset())\n",
    "        \n",
    "    image = to_torch(env.render())\n",
    "    \n",
    "    replay_buffer.add_step({\"obs\": observation, \"image\": image, \"reward\": reward}, done=terminated or truncated)\n",
    "\n",
    "env.close()"
   ]
  },
  {
   "cell_type": "markdown",
   "id": "b8356f0d",
   "metadata": {},
   "source": [
    "## Inspecting the replay buffer\n",
    "We can inspect the state of the replay buffer through various functionalities.\n",
    "\n",
    "**1.** A general overview shows how much data is stored and under which keys."
   ]
  },
  {
   "cell_type": "code",
   "execution_count": 3,
   "id": "6ecdcc04",
   "metadata": {},
   "outputs": [
    {
     "name": "stdout",
     "output_type": "stream",
     "text": [
      "RingBufferDataset(\n",
      "    num_episodes: 2\n",
      "    num_timesteps: 400\n",
      "    fields: ['obs', 'image', 'reward'] \n",
      ")\n"
     ]
    }
   ],
   "source": [
    "print(replay_buffer.dataset)"
   ]
  },
  {
   "cell_type": "markdown",
   "id": "b66315ea",
   "metadata": {},
   "source": [
    "**2.** The fields of the dataset describe what type of data is stored under each key."
   ]
  },
  {
   "cell_type": "code",
   "execution_count": 4,
   "id": "c294a7ef",
   "metadata": {},
   "outputs": [
    {
     "name": "stdout",
     "output_type": "stream",
     "text": [
      "{'image': ColorImage(device=device(type='cpu'), height=500, width=500),\n",
      " 'obs': Vector(device=device(type='cpu'),\n",
      "               dtype=torch.float32,\n",
      "               shape=torch.Size([3])),\n",
      " 'reward': Scalar(device=device(type='cpu'), dtype=torch.float64)}\n"
     ]
    }
   ],
   "source": [
    "pprint(replay_buffer.dataset.fields)"
   ]
  },
  {
   "cell_type": "markdown",
   "id": "84b18b39",
   "metadata": {},
   "source": [
    "**3.** Properties can give us detailed information about the state of the dataset."
   ]
  },
  {
   "cell_type": "code",
   "execution_count": 5,
   "id": "b106c848",
   "metadata": {},
   "outputs": [
    {
     "name": "stdout",
     "output_type": "stream",
     "text": [
      "False\n"
     ]
    }
   ],
   "source": [
    "print(replay_buffer.dataset.is_empty)"
   ]
  },
  {
   "cell_type": "code",
   "execution_count": 6,
   "id": "164babba",
   "metadata": {},
   "outputs": [
    {
     "name": "stdout",
     "output_type": "stream",
     "text": [
      "[200, 200]\n"
     ]
    }
   ],
   "source": [
    "print(replay_buffer.dataset.episode_lengths)"
   ]
  },
  {
   "cell_type": "markdown",
   "id": "298b3204",
   "metadata": {},
   "source": [
    "## Sampling from the replay buffer\n",
    "We can iterate through the data as soon as completed episodes have been added.\n",
    "To do so, we call the replay buffer's `sample` to retrieve a dictionary of tensors of shape `[batch_size, sequence_length, ...]`.\n",
    "The sampled sequences respect episode boundaries making them suitable for recurrent learning methods."
   ]
  },
  {
   "cell_type": "code",
   "execution_count": 7,
   "id": "e42320b0",
   "metadata": {},
   "outputs": [
    {
     "name": "stdout",
     "output_type": "stream",
     "text": [
      "[{'obs': torch.Size([32, 10, 3]), 'image': torch.Size([32, 10, 500, 500, 3]), 'reward': torch.Size([32, 10])}]\n"
     ]
    }
   ],
   "source": [
    "batch = replay_buffer.sample()\n",
    "print([{k: v.shape for k, v in batch.items()}])"
   ]
  },
  {
   "cell_type": "markdown",
   "id": "82f84149",
   "metadata": {},
   "source": [
    "We can visualize the batch to better understand the data."
   ]
  },
  {
   "cell_type": "code",
   "execution_count": 8,
   "id": "22f4f673",
   "metadata": {},
   "outputs": [
    {
     "data": {
      "application/vnd.jupyter.widget-view+json": {
       "model_id": "64666abf94784d5bada5bced747cc66d",
       "version_major": 2,
       "version_minor": 0
      },
      "image/png": "[encoded data removed]",
      "text/html": [
       "\n",
       "            <div style=\"display: inline-block;\">\n",
       "                <div class=\"jupyter-widgets widget-label\" style=\"text-align: center;\">\n",
       "                    Figure\n",
       "                </div>\n",
       "                <img src='data:image/png;base64,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' width=640.0/>\n",
       "            </div>\n",
       "        "
      ],
      "text/plain": [
       "Canvas(toolbar=Toolbar(toolitems=[('Home', 'Reset original view', 'home', 'home'), ('Back', 'Back to previous …"
      ]
     },
     "metadata": {},
     "output_type": "display_data"
    }
   ],
   "source": [
    "%matplotlib widget\n",
    "from buffers.visualization import MatplotlibVisualizer\n",
    "\n",
    "visualizer = MatplotlibVisualizer(replay_buffer.dataset)\n",
    "visualizer.visualize(batch)"
   ]
  },
  {
   "cell_type": "code",
   "execution_count": null,
   "id": "b2f6d1a2-695f-4738-8b4e-9df97cc0a86c",
   "metadata": {},
   "outputs": [],
   "source": []
  }
 ],
 "metadata": {
  "kernelspec": {
   "display_name": "Python 3 (ipykernel)",
   "language": "python",
   "name": "python3"
  },
  "language_info": {
   "codemirror_mode": {
    "name": "ipython",
    "version": 3
   },
   "file_extension": ".py",
   "mimetype": "text/x-python",
   "name": "python",
   "nbconvert_exporter": "python",
   "pygments_lexer": "ipython3",
   "version": "3.10.13"
  }
 },
 "nbformat": 4,
 "nbformat_minor": 5
}
