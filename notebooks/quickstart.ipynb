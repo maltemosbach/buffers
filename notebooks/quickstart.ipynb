{
 "cells": [
  {
   "cell_type": "markdown",
   "id": "7b9214de",
   "metadata": {},
   "source": [
    "# Quickstart\n",
    "This notebook showcases basic examples of how ️buffers implements storing and replaying of experiences.\n",
    "\n",
    "To maintain the modularity of [Datasets & DataLoaders](https://pytorch.org/tutorials/beginner/basics/data_tutorial.html#loading-a-dataset), we utilize the `EpisodeDataset` to store completed episodes and a `ReplayBuffer` that wraps around the dataset to enable easy sampling and adding of experiences."
   ]
  },
  {
   "cell_type": "markdown",
   "id": "eb11b474",
   "metadata": {},
   "source": [
    "## Creating a replay buffer"
   ]
  },
  {
   "cell_type": "code",
   "execution_count": 1,
   "id": "04b867b7",
   "metadata": {},
   "outputs": [],
   "source": [
    "from buffers import ReplayBuffer\n",
    "from buffers.dataset import RingBufferDataset\n",
    "\n",
    "dataset = RingBufferDataset(capacity=10000)\n",
    "replay_buffer = ReplayBuffer(dataset, batch_size=32, sequence_length=10)"
   ]
  },
  {
   "cell_type": "markdown",
   "id": "f5dbfe7f",
   "metadata": {},
   "source": [
    "## Storing data from sample environment"
   ]
  },
  {
   "cell_type": "code",
   "execution_count": 2,
   "id": "df12048b",
   "metadata": {},
   "outputs": [
    {
     "name": "stderr",
     "output_type": "stream",
     "text": [
      "Generating experiences: 100%|████████████████████████████████████████████████████████████████████████████████████████████████████████████████████████████████████████████████████| 500/500 [00:06<00:00, 79.74it/s]\n"
     ]
    }
   ],
   "source": [
    "import gymnasium as gym\n",
    "from pprint import pprint\n",
    "from buffers.utils import to_torch\n",
    "from tqdm import tqdm\n",
    "\n",
    "env = gym.make(\"Pendulum-v1\", render_mode=\"rgb_array\")\n",
    "env.action_space.seed(42)\n",
    "observation, info = env.reset(seed=42)\n",
    "\n",
    "for _ in tqdm(range(500), desc=\"Generating experiences\"):\n",
    "    action = env.action_space.sample()\n",
    "    observation, reward, terminated, truncated, info = to_torch(env.step(action))\n",
    "    \n",
    "    if terminated or truncated:\n",
    "        observation, info = to_torch(env.reset())\n",
    "        \n",
    "    image = to_torch(env.render())\n",
    "    \n",
    "    replay_buffer.add_step({\"obs\": observation, \"image\": image, \"reward\": reward}, done=terminated or truncated)\n",
    "\n",
    "env.close()"
   ]
  },
  {
   "cell_type": "markdown",
   "id": "b8356f0d",
   "metadata": {},
   "source": [
    "## Inspecting the replay buffer\n",
    "We can inspect the state of the replay buffer through various functionalities.\n",
    "\n",
    "**1.** A general overview shows how much data is stored and under which keys."
   ]
  },
  {
   "cell_type": "code",
   "execution_count": 3,
   "id": "6ecdcc04",
   "metadata": {},
   "outputs": [
    {
     "name": "stdout",
     "output_type": "stream",
     "text": [
      "RingBufferDataset(\n",
      "    num_episodes: 2\n",
      "    num_timesteps: 400\n",
      "    fields: ['obs', 'image', 'reward'] \n",
      ")\n"
     ]
    }
   ],
   "source": [
    "print(replay_buffer.dataset)"
   ]
  },
  {
   "cell_type": "markdown",
   "id": "b66315ea",
   "metadata": {},
   "source": [
    "**2.** The fields of the dataset describe what type of data is stored under each key."
   ]
  },
  {
   "cell_type": "code",
   "execution_count": 4,
   "id": "c294a7ef",
   "metadata": {},
   "outputs": [
    {
     "name": "stdout",
     "output_type": "stream",
     "text": [
      "{'image': ColorImage(device=device(type='cpu'), height=500, width=500),\n",
      " 'obs': Vector(device=device(type='cpu'),\n",
      "               dtype=torch.float32,\n",
      "               shape=torch.Size([3])),\n",
      " 'reward': Scalar(device=device(type='cpu'), dtype=torch.float64)}\n"
     ]
    }
   ],
   "source": [
    "pprint(replay_buffer.dataset.fields)"
   ]
  },
  {
   "cell_type": "markdown",
   "id": "84b18b39",
   "metadata": {},
   "source": [
    "**3.** Properties can give us detailed information about the state of the dataset."
   ]
  },
  {
   "cell_type": "code",
   "execution_count": 5,
   "id": "b106c848",
   "metadata": {},
   "outputs": [
    {
     "name": "stdout",
     "output_type": "stream",
     "text": [
      "False\n"
     ]
    }
   ],
   "source": [
    "print(replay_buffer.dataset.is_empty)"
   ]
  },
  {
   "cell_type": "code",
   "execution_count": 6,
   "id": "164babba",
   "metadata": {},
   "outputs": [
    {
     "name": "stdout",
     "output_type": "stream",
     "text": [
      "[200, 200]\n"
     ]
    }
   ],
   "source": [
    "print(replay_buffer.dataset.episode_lengths)"
   ]
  },
  {
   "cell_type": "markdown",
   "id": "298b3204",
   "metadata": {},
   "source": [
    "## Sampling from the replay buffer\n",
    "We can iterate through the data as soon as completed episodes have been added.\n",
    "To do so, we call the replay buffer's `sample` to retrieve a dictionary of tensors of shape `[batch_size, sequence_length, ...]`.\n",
    "The sampled sequences respect episode boundaries making them suitable for recurrent learning methods."
   ]
  },
  {
   "cell_type": "code",
   "execution_count": 7,
   "id": "e42320b0",
   "metadata": {},
   "outputs": [
    {
     "name": "stdout",
     "output_type": "stream",
     "text": [
      "[{'obs': torch.Size([32, 10, 3]), 'image': torch.Size([32, 10, 500, 500, 3]), 'reward': torch.Size([32, 10])}]\n"
     ]
    }
   ],
   "source": [
    "batch = replay_buffer.sample()\n",
    "print([{k: v.shape for k, v in batch.items()}])"
   ]
  },
  {
   "cell_type": "markdown",
   "id": "82f84149",
   "metadata": {},
   "source": [
    "We can visualize the batch to better understand the data."
   ]
  },
  {
   "cell_type": "code",
   "execution_count": 8,
   "id": "22f4f673",
   "metadata": {},
   "outputs": [
    {
     "data": {
      "application/vnd.jupyter.widget-view+json": {
       "model_id": "1382d1057a7e40bd83481095650a26d0",
       "version_major": 2,
       "version_minor": 0
      },
      "image/png": "[encoded data removed]",
      "text/html": [
       "\n",
       "            <div style=\"display: inline-block;\">\n",
       "                <div class=\"jupyter-widgets widget-label\" style=\"text-align: center;\">\n",
       "                    Figure\n",
       "                </div>\n",
       "                <img src='data:image/png;base64,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' width=640.0/>\n",
       "            </div>\n",
       "        "
      ],
      "text/plain": [
       "Canvas(toolbar=Toolbar(toolitems=[('Home', 'Reset original view', 'home', 'home'), ('Back', 'Back to previous …"
      ]
     },
     "metadata": {},
     "output_type": "display_data"
    }
   ],
   "source": [
    "%matplotlib widget\n",
    "from buffers.visualization import MatplotlibVisualizer\n",
    "\n",
    "visualizer = MatplotlibVisualizer(replay_buffer.dataset)\n",
    "visualizer.visualize(batch)"
   ]
  },
  {
   "cell_type": "code",
   "execution_count": null,
   "id": "b2f6d1a2-695f-4738-8b4e-9df97cc0a86c",
   "metadata": {},
   "outputs": [],
   "source": []
  }
 ],
 "metadata": {
  "kernelspec": {
   "display_name": "Python 3 (ipykernel)",
   "language": "python",
   "name": "python3"
  },
  "language_info": {
   "codemirror_mode": {
    "name": "ipython",
    "version": 3
   },
   "file_extension": ".py",
   "mimetype": "text/x-python",
   "name": "python",
   "nbconvert_exporter": "python",
   "pygments_lexer": "ipython3",
   "version": "3.10.14"
  }
 },
 "nbformat": 4,
 "nbformat_minor": 5
}
